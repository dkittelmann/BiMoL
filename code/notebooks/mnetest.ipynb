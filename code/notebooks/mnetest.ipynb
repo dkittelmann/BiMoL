{
 "cells": [
  {
   "cell_type": "code",
   "execution_count": 5,
   "metadata": {},
   "outputs": [],
   "source": [
    "import scipy.io\n",
    "import numpy as np\n",
    "import mne\n",
    "import pandas as pd"
   ]
  },
  {
   "cell_type": "code",
   "execution_count": 102,
   "metadata": {},
   "outputs": [
    {
     "name": "stdout",
     "output_type": "stream",
     "text": [
      "Not setting metadata\n",
      "3456 matching events found\n",
      "No baseline correction applied\n",
      "0 projection items activated\n",
      "<EpochsArray |  3456 events (all good), 0 – 0.596667 s, baseline off, ~303.8 MB, data loaded,\n",
      " '1': 3456>\n",
      "Not setting metadata\n",
      "3456 matching events found\n",
      "No baseline correction applied\n",
      "0 projection items activated\n"
     ]
    }
   ],
   "source": [
    "# Load the FieldTrip .mat file\n",
    "mat = scipy.io.loadmat('/Users/denisekittelmann/Documents/MATLAB/Hannah_data/P01/eTadff_sub01.mat')\n",
    "\n",
    "# Assuming 'data' is the key for your FieldTrip data structure in the .mat file\n",
    "ft_data = mat['data']\n",
    "\n",
    "# Extract the relevant information from FieldTrip structure\n",
    "# This example assumes the FieldTrip structure has 'trial', 'time', and 'label' fields.\n",
    "data = np.array(ft_data['trial'][0][0][0])\n",
    "times = np.array(ft_data['time'][0][0][0][0][0])\n",
    "labels = [label[0][0] for label in ft_data['label'][0][0]]\n",
    "\n",
    "# Verify the shape of your data (trials, channels, times)\n",
    "n_trials = len(data)\n",
    "n_channels = len(labels)\n",
    "n_times = len(times)\n",
    "\n",
    "# Create an MNE info structure\n",
    "sfreq = 300  # Example sampling frequency, adjust as necessary\n",
    "info = mne.create_info(ch_names=labels, sfreq=sfreq, ch_types='eeg')\n",
    "\n",
    "# Reshape the data to fit MNE's expected format (trials, channels, times)\n",
    "data_reshaped = np.zeros((n_trials, n_channels, n_times))\n",
    "for i in range(n_trials):\n",
    "    data_reshaped[i] = np.array(data[i])\n",
    "\n",
    "# Create an MNE Epochs object\n",
    "epochs = mne.EpochsArray(data_reshaped, info)\n",
    "\n",
    "# Now you can use the epochs object in MNE for further analysis\n",
    "print(epochs)\n",
    "\n",
    "\n",
    "trial_info = np.array(ft_data['trialinfo'][0][0]) #.flatten()  # Flatten to 1D\n",
    "\n",
    "epochs.events[:,2]=trial_info.T\n",
    "\n",
    "epochs = mne.EpochsArray(data_reshaped, info)\n",
    "\n",
    "np.set_printoptions(threshold=np.inf)  # Remove the print limit\n",
    "epochs.events[:,2]\n",
    "\n"
   ]
  },
  {
   "cell_type": "code",
   "execution_count": null,
   "metadata": {},
   "outputs": [],
   "source": [
    "fname = '/Users/denisekittelmann/Documents/MATLAB/Hannah_data/P01/eTadff_sub01.mat'\n",
    "tt = mne.read_epochs_fieldtrip(fname, info= None, data_name= 'fD', trialinfo_column=0)"
   ]
  }
 ],
 "metadata": {
  "kernelspec": {
   "display_name": "mne",
   "language": "python",
   "name": "python3"
  },
  "language_info": {
   "codemirror_mode": {
    "name": "ipython",
    "version": 3
   },
   "file_extension": ".py",
   "mimetype": "text/x-python",
   "name": "python",
   "nbconvert_exporter": "python",
   "pygments_lexer": "ipython3",
   "version": "3.11.4"
  }
 },
 "nbformat": 4,
 "nbformat_minor": 2
}
